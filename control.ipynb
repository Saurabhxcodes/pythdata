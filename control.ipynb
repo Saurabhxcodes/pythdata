{
 "cells": [
  {
   "cell_type": "code",
   "execution_count": 1,
   "metadata": {},
   "outputs": [
    {
     "name": "stdout",
     "output_type": "stream",
     "text": [
      "the end \n"
     ]
    }
   ],
   "source": [
    "num1 = 1345\n",
    "if num1%2==0:\n",
    "    print(\"the given number is even\")\n",
    "print(\"the end \")\n"
   ]
  },
  {
   "cell_type": "code",
   "execution_count": 2,
   "metadata": {},
   "outputs": [
    {
     "name": "stdout",
     "output_type": "stream",
     "text": [
      "again enter the num \n"
     ]
    }
   ],
   "source": [
    "num = input(\"enter the num\")\n",
    "if num.isnumeric():\n",
    "    print(\"well done\")\n",
    "else:\n",
    "    print(\"again enter the num \")"
   ]
  },
  {
   "cell_type": "code",
   "execution_count": null,
   "metadata": {},
   "outputs": [],
   "source": []
  }
 ],
 "metadata": {
  "kernelspec": {
   "display_name": "Python 3.9.12 ('base')",
   "language": "python",
   "name": "python3"
  },
  "language_info": {
   "codemirror_mode": {
    "name": "ipython",
    "version": 3
   },
   "file_extension": ".py",
   "mimetype": "text/x-python",
   "name": "python",
   "nbconvert_exporter": "python",
   "pygments_lexer": "ipython3",
   "version": "3.9.12"
  },
  "orig_nbformat": 4,
  "vscode": {
   "interpreter": {
    "hash": "8836dc3cb5d022b839c66561b07c94e2b96c073f18eae4c463d3a3bcf20aef43"
   }
  }
 },
 "nbformat": 4,
 "nbformat_minor": 2
}
