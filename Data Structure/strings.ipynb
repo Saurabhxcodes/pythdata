{
 "cells": [
  {
   "cell_type": "code",
   "execution_count": 17,
   "metadata": {},
   "outputs": [
    {
     "name": "stdout",
     "output_type": "stream",
     "text": [
      "this is amazing\n"
     ]
    }
   ],
   "source": [
    "w = 'this'\n",
    "s = 'is'\n",
    "t = 'amazing'\n",
    "z= w + ' ' + s + ' ' + t\n",
    "print(z)"
   ]
  },
  {
   "cell_type": "code",
   "execution_count": 18,
   "metadata": {},
   "outputs": [
    {
     "name": "stdout",
     "output_type": "stream",
     "text": [
      "hihihihihi\n"
     ]
    }
   ],
   "source": [
    "word =\"hi\"\n",
    "print(word* 5)"
   ]
  },
  {
   "cell_type": "code",
   "execution_count": 19,
   "metadata": {},
   "outputs": [
    {
     "name": "stdout",
     "output_type": "stream",
     "text": [
      "*\n",
      "**\n",
      "***\n",
      "****\n"
     ]
    }
   ],
   "source": [
    "\n",
    "for i in range(1,6):\n",
    "    print( i * '*')\n",
    "    "
   ]
  },
  {
   "cell_type": "code",
   "execution_count": 20,
   "metadata": {},
   "outputs": [
    {
     "name": "stdout",
     "output_type": "stream",
     "text": [
      "******\n",
      "*****\n",
      "****\n",
      "***\n",
      "**\n",
      "*\n"
     ]
    }
   ],
   "source": [
    "\n",
    "for i in range(6,0,-1):\n",
    "    print( i * '*')"
   ]
  },
  {
   "cell_type": "code",
   "execution_count": 21,
   "metadata": {},
   "outputs": [],
   "source": [
    "name = 'saurabh'\n",
    "age = '20'\n",
    "list1 = ['apple','mango','grapes']"
   ]
  },
  {
   "cell_type": "markdown",
   "metadata": {},
   "source": [
    "### Formatting functions"
   ]
  },
  {
   "cell_type": "code",
   "execution_count": 22,
   "metadata": {},
   "outputs": [
    {
     "name": "stdout",
     "output_type": "stream",
     "text": [
      "THIS IS A MESSAGE FROM VERY IMPORTANT PERSON\n",
      "this is a message from very important person\n",
      "This Is A Message From Very Important Person\n",
      "This is a message from very important person\n",
      "this is a message from very important person\n",
      "THIS IS A MESSAGE FROM very IMPORtant PERSON\n"
     ]
    }
   ],
   "source": [
    "msg = 'this is a message from VERY imporTANT person'\n",
    "print(msg.upper())\n",
    "print(msg.lower())\n",
    "print(msg.title())\n",
    "print(msg.capitalize())\n",
    "print(msg.casefold())\n",
    "print(msg.swapcase())"
   ]
  },
  {
   "cell_type": "code",
   "execution_count": 23,
   "metadata": {},
   "outputs": [
    {
     "name": "stdout",
     "output_type": "stream",
     "text": [
      "44\n"
     ]
    }
   ],
   "source": [
    "msg = 'this is a message from VERY imporTANT person'\n",
    "print(len(msg))"
   ]
  },
  {
   "cell_type": "code",
   "execution_count": 24,
   "metadata": {},
   "outputs": [
    {
     "name": "stdout",
     "output_type": "stream",
     "text": [
      "                          this is a message from VERY imporTANT person\n",
      "                       this is a message from VERY imporTANT person                       \n"
     ]
    }
   ],
   "source": [
    "print(msg.rjust(70))\n",
    "print(msg.center(90))"
   ]
  },
  {
   "cell_type": "markdown",
   "metadata": {},
   "source": []
  },
  {
   "cell_type": "code",
   "execution_count": 25,
   "metadata": {},
   "outputs": [],
   "source": [
    "long_msg =''' The size of the arrays is fixed:\n",
    "Insertion of a new element / Deletion of a existing element in an array of elements is expensive:\n",
    " The room has to be created for the new elements and to create room existing \n",
    " elements have to be shifted but in Linked list if we have the head node then \n",
    " we can traverse to any node through it and insert new node at the required position. '''"
   ]
  },
  {
   "cell_type": "code",
   "execution_count": 27,
   "metadata": {},
   "outputs": [
    {
     "name": "stdout",
     "output_type": "stream",
     "text": [
      "                                                 The size of the arrays is fixed:                                                 \n",
      "                Insertion of a new element / Deletion of a existing element in an array of elements is expensive:                 \n",
      "                           The room has to be created for the new elements and to create room existing                            \n",
      "                           elements have to be shifted but in Linked list if we have the head node then                           \n",
      "                       we can traverse to any node through it and insert new node at the required position.                       \n"
     ]
    }
   ],
   "source": [
    "for line in long_msg.split('\\n'):\n",
    "    print(line.center(130))"
   ]
  },
  {
   "cell_type": "code",
   "execution_count": 28,
   "metadata": {},
   "outputs": [
    {
     "name": "stdout",
     "output_type": "stream",
     "text": [
      "['this', 'is', 'a', 'message', 'from', 'VERY', 'imporTANT', 'person']\n"
     ]
    }
   ],
   "source": [
    "print(msg.split())"
   ]
  },
  {
   "cell_type": "code",
   "execution_count": 34,
   "metadata": {},
   "outputs": [
    {
     "name": "stdout",
     "output_type": "stream",
     "text": [
      "['1', '2', '3', '4', '5', '6', '7']\n"
     ]
    }
   ],
   "source": [
    "nums = '1 2 3 4 5 6 7'\n",
    "print(nums.split())"
   ]
  },
  {
   "cell_type": "code",
   "execution_count": 35,
   "metadata": {},
   "outputs": [
    {
     "name": "stdout",
     "output_type": "stream",
     "text": [
      "['this', 'is', 'a', 'message from VERY imporTANT person']\n"
     ]
    }
   ],
   "source": [
    "print(msg.split(maxsplit=3))\n"
   ]
  },
  {
   "cell_type": "code",
   "execution_count": 36,
   "metadata": {},
   "outputs": [
    {
     "name": "stdout",
     "output_type": "stream",
     "text": [
      "['this is a message from', 'VERY', 'imporTANT', 'person']\n"
     ]
    }
   ],
   "source": [
    "print(msg.rsplit(maxsplit=3))"
   ]
  },
  {
   "cell_type": "code",
   "execution_count": 43,
   "metadata": {},
   "outputs": [
    {
     "name": "stdout",
     "output_type": "stream",
     "text": [
      "10 saurabh   \n",
      "7 saurabh\n"
     ]
    }
   ],
   "source": [
    "name = input(\" enter \")\n",
    "print(len(name),name)\n",
    "names = name.strip()\n",
    "print(len(names),names)\n"
   ]
  },
  {
   "cell_type": "code",
   "execution_count": 45,
   "metadata": {},
   "outputs": [
    {
     "name": "stdout",
     "output_type": "stream",
     "text": [
      "saurabh----singh\n",
      "----------saurabh----singh\n",
      "saurabh----singh------\n"
     ]
    }
   ],
   "source": [
    "data = '----------saurabh----singh------'\n",
    "print(data.strip('-'))\n",
    "print(data.rstrip('-'))\n",
    "print(data.lstrip('-'))"
   ]
  },
  {
   "cell_type": "code",
   "execution_count": 46,
   "metadata": {},
   "outputs": [
    {
     "name": "stdout",
     "output_type": "stream",
     "text": [
      " The size of the arrays is fixed:\n",
      "Insertion of a new element / Deletion of a existing element in an array of elements is expensive:\n",
      " The room has to be created for the new elements and to create room existing \n",
      " elements have to be shifted but in Linked list if we have the head node then \n",
      " we can traverse to any node through it and insert new node at the required position. \n",
      "UPDATED0\n",
      " The soze of the arrays os foxed:\n",
      "Insertoon of a new element / Deletoon of a exostong element on an array of elements os expensove:\n",
      " The room has to be created for the new elements and to create room exostong \n",
      " elements have to be shofted but on Lonked lost of we have the head node then \n",
      " we can traverse to any node through ot and onsert new node at the requored posotoon. \n"
     ]
    }
   ],
   "source": [
    "print(long_msg)\n",
    "print(\"UPDATED0\")\n",
    "print(long_msg.replace('i','o'))"
   ]
  },
  {
   "cell_type": "code",
   "execution_count": 50,
   "metadata": {},
   "outputs": [
    {
     "data": {
      "text/plain": [
       "'saurabhsingh'"
      ]
     },
     "execution_count": 50,
     "metadata": {},
     "output_type": "execute_result"
    }
   ],
   "source": [
    "data.replace('-','')"
   ]
  },
  {
   "cell_type": "code",
   "execution_count": 48,
   "metadata": {},
   "outputs": [
    {
     "name": "stdout",
     "output_type": "stream",
     "text": [
      "4\n"
     ]
    }
   ],
   "source": [
    "print(long_msg.count('of'))"
   ]
  },
  {
   "cell_type": "code",
   "execution_count": null,
   "metadata": {},
   "outputs": [],
   "source": []
  }
 ],
 "metadata": {
  "kernelspec": {
   "display_name": "Python 3.9.12 ('base')",
   "language": "python",
   "name": "python3"
  },
  "language_info": {
   "codemirror_mode": {
    "name": "ipython",
    "version": 3
   },
   "file_extension": ".py",
   "mimetype": "text/x-python",
   "name": "python",
   "nbconvert_exporter": "python",
   "pygments_lexer": "ipython3",
   "version": "3.9.12"
  },
  "orig_nbformat": 4,
  "vscode": {
   "interpreter": {
    "hash": "0e401e97604acefb15056347e4e4ce57f2b4697b929a3afccc7633b60754b6c0"
   }
  }
 },
 "nbformat": 4,
 "nbformat_minor": 2
}
