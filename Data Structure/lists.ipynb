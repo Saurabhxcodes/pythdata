{
 "cells": [
  {
   "cell_type": "code",
   "execution_count": 1,
   "metadata": {},
   "outputs": [],
   "source": [
    "list1 =['nikhil','values','saurabh']\n",
    "list2 = [1,2,3,4,5]"
   ]
  },
  {
   "cell_type": "code",
   "execution_count": 2,
   "metadata": {},
   "outputs": [
    {
     "name": "stdout",
     "output_type": "stream",
     "text": [
      "list3=  [2, 4, 6, 'a', 10, 'b', 16]\n"
     ]
    }
   ],
   "source": [
    "list3 = [2,4,6,'a',10,'b',16]\n",
    "print('list3= ',list3)"
   ]
  },
  {
   "cell_type": "code",
   "execution_count": 3,
   "metadata": {},
   "outputs": [
    {
     "name": "stdout",
     "output_type": "stream",
     "text": [
      "saurabh\n"
     ]
    }
   ],
   "source": [
    "str =\"saurabh\"\n",
    "print(str)"
   ]
  },
  {
   "cell_type": "code",
   "execution_count": 4,
   "metadata": {},
   "outputs": [
    {
     "name": "stdout",
     "output_type": "stream",
     "text": [
      "4.0\n"
     ]
    }
   ],
   "source": [
    "x = [1,2,3,4,5,6,7]\n",
    "mean= sum(x)/len(x)\n",
    "print(mean)"
   ]
  },
  {
   "cell_type": "code",
   "execution_count": 15,
   "metadata": {},
   "outputs": [
    {
     "name": "stdout",
     "output_type": "stream",
     "text": [
      "new list= [5, 7, 9]\n"
     ]
    }
   ],
   "source": [
    "l1 = [1,2,3]\n",
    "l2 = [4,5,6]\n",
    "s =[]\n",
    "for i in range(len(l1)):\n",
    "    s.append(l1[i]+l2[i])\n",
    "print(\"new list=\", s)\n"
   ]
  },
  {
   "cell_type": "code",
   "execution_count": 20,
   "metadata": {},
   "outputs": [
    {
     "name": "stdout",
     "output_type": "stream",
     "text": [
      "[2, 4, 6, 8]\n",
      "[4, 16, 36, 64]\n"
     ]
    }
   ],
   "source": [
    "t = [2,4,6,8]\n",
    "u =[]\n",
    "for i in t:\n",
    "    u.append(i**2)\n",
    "print(t)\n",
    "print(u)\n"
   ]
  },
  {
   "cell_type": "code",
   "execution_count": 2,
   "metadata": {},
   "outputs": [
    {
     "name": "stdout",
     "output_type": "stream",
     "text": [
      "[1, 2, 3, 4, 5, 6]\n",
      "[1, 9, 25]\n"
     ]
    }
   ],
   "source": [
    "b =[ 1,2,3,4,5,6]\n",
    "d = []\n",
    "for i in b:\n",
    "    if i%2==1:\n",
    "        d.append(i**2)\n",
    "print(b)\n",
    "print(d)"
   ]
  },
  {
   "cell_type": "code",
   "execution_count": 31,
   "metadata": {},
   "outputs": [
    {
     "name": "stdout",
     "output_type": "stream",
     "text": [
      "abr == ['Rg', 'Nm', 'ak', 'bl']\n"
     ]
    }
   ],
   "source": [
    "words1 = [ 'Rahul gandhi','Narendra modi','arvind khejrival','barabanki lucknow']\n",
    "abr = []\n",
    "for item in words1:\n",
    "    items = item.split()\n",
    "    s =\"\"\n",
    "    for i in items:\n",
    "        s+=i[0]\n",
    "    abr.append(s)\n",
    "print(\"abr ==\",abr)\n",
    "\n"
   ]
  },
  {
   "cell_type": "code",
   "execution_count": 5,
   "metadata": {},
   "outputs": [
    {
     "name": "stdout",
     "output_type": "stream",
     "text": [
      "32 43, gagsh,344,3 63\n",
      "[32, 63]\n",
      "[32768, 250047]\n"
     ]
    }
   ],
   "source": [
    "# take a list from user in one of input and then\n",
    "# remove all the non numeric values from the list\n",
    "# then display the cubes of numbers from the list\n",
    "\n",
    "entries= input('enter data separated with space: ')\n",
    "# entries=['12', '42', '32', 'banana', 'apple', '333', '54', '77', '31', '88']\n",
    "print(entries)\n",
    "numeric_entries=[]\n",
    "for value in entries.split():\n",
    "    if value.isnumeric():\n",
    "        numeric_entries.append(int(value))\n",
    "\n",
    "\n",
    "print(numeric_entries)\n",
    "#cubes of numbers\n",
    "cubes=[i**3 for i in numeric_entries]    #list comprehension\n",
    "print(cubes)  #"
   ]
  },
  {
   "cell_type": "code",
   "execution_count": null,
   "metadata": {},
   "outputs": [],
   "source": []
  },
  {
   "cell_type": "markdown",
   "metadata": {},
   "source": [
    "# list Comprehension\n",
    "\n",
    "- is a way to create"
   ]
  },
  {
   "cell_type": "code",
   "execution_count": 6,
   "metadata": {},
   "outputs": [],
   "source": [
    "x=[2,3,4,5,6,7,8]\n",
    "x2=[i**2 for i in x if i%2!=0]"
   ]
  },
  {
   "cell_type": "code",
   "execution_count": 2,
   "metadata": {},
   "outputs": [
    {
     "name": "stdout",
     "output_type": "stream",
     "text": [
      "['apple', 'sugar', 'mango']\n"
     ]
    }
   ],
   "source": [
    "jk=[]\n",
    "jk.append(\"apple\")\n",
    "jk.append(\"sugar\")\n",
    "jk.append(\"mango\")\n",
    "print(jk)"
   ]
  },
  {
   "cell_type": "code",
   "execution_count": 3,
   "metadata": {},
   "outputs": [
    {
     "name": "stdout",
     "output_type": "stream",
     "text": [
      "['apple', 'sugar', 'mango']\n"
     ]
    }
   ],
   "source": [
    "newlist = []\n",
    "for x in jk:\n",
    "    if \"a\" in x:\n",
    "        newlist.append(x)\n",
    "print(newlist)"
   ]
  },
  {
   "cell_type": "code",
   "execution_count": 4,
   "metadata": {},
   "outputs": [
    {
     "name": "stdout",
     "output_type": "stream",
     "text": [
      "[19, 20, 141, 26, 17]\n"
     ]
    }
   ],
   "source": [
    "x = [12,13,134,19,10]\n",
    "x2=[]\n",
    "for i in x:\n",
    "    o=i+7\n",
    "    x2.append(o)\n",
    "print(x2)"
   ]
  },
  {
   "cell_type": "code",
   "execution_count": 1,
   "metadata": {},
   "outputs": [
    {
     "name": "stdout",
     "output_type": "stream",
     "text": [
      "t\n"
     ]
    }
   ],
   "source": [
    "str = \"t\"\n",
    "print(str)"
   ]
  },
  {
   "cell_type": "code",
   "execution_count": 13,
   "metadata": {},
   "outputs": [
    {
     "name": "stdout",
     "output_type": "stream",
     "text": [
      "[11, 22, 33, 44, 55]\n",
      "[11, 33, 55]\n",
      "[22, 44]\n",
      "44\n"
     ]
    }
   ],
   "source": [
    "n = int(input())\n",
    "list0 = list(map(int,input().split()))\n",
    "print(list0)\n",
    "t =  []\n",
    "s=[]\n",
    "for i in range(n):\n",
    "    if i%2==0:\n",
    "        t.append(list0[i])\n",
    "    else:\n",
    "        s.append(list0[i])\n",
    "s=sorted(s)\n",
    "print(t)\n",
    "print(s)\n",
    "print(max(s))\n",
    "\n"
   ]
  },
  {
   "cell_type": "code",
   "execution_count": null,
   "metadata": {},
   "outputs": [],
   "source": [
    "naming ={'A':1, 'B':2,'C:':3}\n",
    "print(naming)"
   ]
  },
  {
   "cell_type": "code",
   "execution_count": null,
   "metadata": {},
   "outputs": [],
   "source": [
    "n1 = int(input(\"enter the size of the array\"))\n",
    "arr1 = list(map(int,input(\"enter the elements of array\").split()))\n",
    "sum1=[]\n",
    "for i in range(n):\n",
    "    if arr1[0]==arr1[i+1]+1:\n",
    "        arr1.remove(arr1[i+1]) "
   ]
  }
 ],
 "metadata": {
  "kernelspec": {
   "display_name": "Python 3.9.12 ('base')",
   "language": "python",
   "name": "python3"
  },
  "language_info": {
   "codemirror_mode": {
    "name": "ipython",
    "version": 3
   },
   "file_extension": ".py",
   "mimetype": "text/x-python",
   "name": "python",
   "nbconvert_exporter": "python",
   "pygments_lexer": "ipython3",
   "version": "3.9.12"
  },
  "orig_nbformat": 4,
  "vscode": {
   "interpreter": {
    "hash": "6a554a9cd917c4e25b828d3c65d9852064ae36e3d71a7d6c65c627bc273839e7"
   }
  }
 },
 "nbformat": 4,
 "nbformat_minor": 2
}
