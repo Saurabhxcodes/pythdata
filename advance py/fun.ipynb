{
 "cells": [
  {
   "cell_type": "code",
   "execution_count": 2,
   "metadata": {},
   "outputs": [
    {
     "name": "stdout",
     "output_type": "stream",
     "text": [
      "hi,i m outside the function\n"
     ]
    }
   ],
   "source": [
    "def hello():\n",
    "    print('this is a function')\n",
    "    print('bye')\n",
    "print('hi,i m outside the function')\n"
   ]
  },
  {
   "cell_type": "code",
   "execution_count": 4,
   "metadata": {},
   "outputs": [
    {
     "name": "stdout",
     "output_type": "stream",
     "text": [
      "this is a function\n",
      "bye\n",
      "None\n"
     ]
    }
   ],
   "source": [
    "\n",
    "print(hello())"
   ]
  },
  {
   "cell_type": "code",
   "execution_count": 7,
   "metadata": {},
   "outputs": [
    {
     "name": "stdout",
     "output_type": "stream",
     "text": [
      "the area of entered length and breadth 770\n"
     ]
    }
   ],
   "source": [
    "def area(length,breadth):\n",
    "    ans = length*breadth\n",
    "    return ans\n",
    "print(\"the area of entered length and breadth\",area(10,77))"
   ]
  },
  {
   "cell_type": "code",
   "execution_count": 12,
   "metadata": {},
   "outputs": [
    {
     "data": {
      "text/plain": [
       "[1, 2, 3, 5, 8, 13, 21, 34, 55, 89]"
      ]
     },
     "execution_count": 12,
     "metadata": {},
     "output_type": "execute_result"
    }
   ],
   "source": [
    "def fibo(start:int,size:int):\n",
    "    out=[start,start+1]\n",
    "    for i in range(size-2):\n",
    "        out.append(out[-1]+out[-2])\n",
    "    return out\n",
    "\n",
    "fibo(1,10)\n",
    "    "
   ]
  },
  {
   "cell_type": "code",
   "execution_count": 19,
   "metadata": {},
   "outputs": [
    {
     "data": {
      "text/plain": [
       "(664608.0, -664596.0)"
      ]
     },
     "execution_count": 19,
     "metadata": {},
     "output_type": "execute_result"
    }
   ],
   "source": [
    "#create a function to calculate si and amount and return them\n",
    "def si_amt(p,r,t):\n",
    "    ans=(p*r*t)/100\n",
    "    amt = p-ans\n",
    "    return ans,amt\n",
    "    \n",
    "    \n",
    "si_amt(12,989,5600)\n",
    "\n"
   ]
  },
  {
   "cell_type": "code",
   "execution_count": 2,
   "metadata": {},
   "outputs": [],
   "source": [
    "import utils"
   ]
  },
  {
   "cell_type": "code",
   "execution_count": 3,
   "metadata": {},
   "outputs": [
    {
     "data": {
      "text/plain": [
       "{'singh': 1, 'lives': 1, 'barabanki': 1, 'in': 1, 'saurabh': 1}"
      ]
     },
     "execution_count": 3,
     "metadata": {},
     "output_type": "execute_result"
    }
   ],
   "source": [
    "utils.word_counter(\" saurabh singh lives in barabanki\")"
   ]
  },
  {
   "cell_type": "code",
   "execution_count": null,
   "metadata": {},
   "outputs": [],
   "source": []
  }
 ],
 "metadata": {
  "kernelspec": {
   "display_name": "Python 3.9.12 ('base')",
   "language": "python",
   "name": "python3"
  },
  "language_info": {
   "codemirror_mode": {
    "name": "ipython",
    "version": 3
   },
   "file_extension": ".py",
   "mimetype": "text/x-python",
   "name": "python",
   "nbconvert_exporter": "python",
   "pygments_lexer": "ipython3",
   "version": "3.9.12"
  },
  "orig_nbformat": 4,
  "vscode": {
   "interpreter": {
    "hash": "6a554a9cd917c4e25b828d3c65d9852064ae36e3d71a7d6c65c627bc273839e7"
   }
  }
 },
 "nbformat": 4,
 "nbformat_minor": 2
}
