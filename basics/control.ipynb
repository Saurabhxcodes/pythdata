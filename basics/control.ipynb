{
 "cells": [
  {
   "cell_type": "code",
   "execution_count": 1,
   "metadata": {},
   "outputs": [
    {
     "name": "stdout",
     "output_type": "stream",
     "text": [
      "the end \n"
     ]
    }
   ],
   "source": [
    "num1 = 1345\n",
    "if num1%2==0:\n",
    "    print(\"the given number is even\")\n",
    "print(\"the end \")\n"
   ]
  },
  {
   "cell_type": "code",
   "execution_count": 2,
   "metadata": {},
   "outputs": [
    {
     "name": "stdout",
     "output_type": "stream",
     "text": [
      "again enter the num \n"
     ]
    }
   ],
   "source": [
    "num = input(\"enter the num\")\n",
    "if num.isnumeric():\n",
    "    print(\"well done\")\n",
    "else:\n",
    "    print(\"again enter the num \")"
   ]
  },
  {
   "cell_type": "code",
   "execution_count": 1,
   "metadata": {},
   "outputs": [
    {
     "data": {
      "text/plain": [
       "7"
      ]
     },
     "execution_count": 1,
     "metadata": {},
     "output_type": "execute_result"
    }
   ],
   "source": [
    "word = \"traffic\"\n",
    "len(word)"
   ]
  },
  {
   "cell_type": "code",
   "execution_count": 4,
   "metadata": {},
   "outputs": [
    {
     "name": "stdout",
     "output_type": "stream",
     "text": [
      "D\n",
      "I\n",
      "G\n",
      "I\n",
      "P\n",
      "O\n",
      "D\n",
      "I\n",
      "U\n",
      "M\n"
     ]
    }
   ],
   "source": [
    "x = \"DIGIPODIUM\"\n",
    "for i in x:\n",
    "    print(i)\n",
    "    "
   ]
  },
  {
   "cell_type": "code",
   "execution_count": 63,
   "metadata": {},
   "outputs": [
    {
     "name": "stdout",
     "output_type": "stream",
     "text": [
      "(0, 'banana')\n",
      "(1, 'apple')\n",
      "(2, 'grapes')\n",
      "(3, 'mango')\n"
     ]
    }
   ],
   "source": [
    "fruits = ['banana','apple','grapes','mango']\n",
    "for item in enumerate(fruits):\n",
    "    print(item)"
   ]
  },
  {
   "cell_type": "code",
   "execution_count": 42,
   "metadata": {},
   "outputs": [
    {
     "name": "stdout",
     "output_type": "stream",
     "text": [
      "i have these numbers 0\n",
      "i have these numbers 1\n",
      "i have these numbers 2\n"
     ]
    }
   ],
   "source": [
    "for i in range(3):\n",
    "    print('i have these numbers',i)"
   ]
  },
  {
   "cell_type": "code",
   "execution_count": 44,
   "metadata": {},
   "outputs": [
    {
     "name": "stdout",
     "output_type": "stream",
     "text": [
      "show 2\n",
      "show 3\n",
      "show 4\n",
      "show 5\n",
      "show 6\n",
      "show 7\n",
      "show 8\n",
      "show 9\n"
     ]
    }
   ],
   "source": [
    "for num in range(2,10):\n",
    "    print('show',num)"
   ]
  },
  {
   "cell_type": "code",
   "execution_count": 48,
   "metadata": {},
   "outputs": [
    {
     "name": "stdout",
     "output_type": "stream",
     "text": [
      "😊with gap of 3== 1\n",
      "😊with gap of 3== 4\n",
      "😊with gap of 3== 7\n"
     ]
    }
   ],
   "source": [
    "for num in range(1,10,3):\n",
    "    print('😊with gap of 3==',num)\n",
    "   "
   ]
  },
  {
   "cell_type": "code",
   "execution_count": 52,
   "metadata": {},
   "outputs": [
    {
     "name": "stdout",
     "output_type": "stream",
     "text": [
      "🤞reverse number 10\n",
      "🤞reverse number 7\n",
      "🤞reverse number 4\n"
     ]
    }
   ],
   "source": [
    "for num in range(10,2,-3):\n",
    "    print(\"🤞reverse number\",num)"
   ]
  },
  {
   "cell_type": "markdown",
   "metadata": {},
   "source": [
    "extra functional setting for loop\n",
    "--enumerates\n",
    "--zip\n"
   ]
  },
  {
   "cell_type": "code",
   "execution_count": 64,
   "metadata": {},
   "outputs": [],
   "source": [
    "prices = ['100','40','30','200']\n"
   ]
  },
  {
   "cell_type": "code",
   "execution_count": 65,
   "metadata": {},
   "outputs": [
    {
     "name": "stdout",
     "output_type": "stream",
     "text": [
      "banana => 100\n",
      "apple => 40\n",
      "grapes => 30\n",
      "mango => 200\n"
     ]
    }
   ],
   "source": [
    "for f,p in zip(fruits,prices):\n",
    "    print(f,\"=>\",p)"
   ]
  },
  {
   "cell_type": "code",
   "execution_count": 66,
   "metadata": {},
   "outputs": [],
   "source": [
    "qty=['2kg','5kg','8 kg','10kg']"
   ]
  },
  {
   "cell_type": "code",
   "execution_count": 70,
   "metadata": {},
   "outputs": [
    {
     "name": "stdout",
     "output_type": "stream",
     "text": [
      "banana => 100 => 2kg\n",
      "apple => 40 => 5kg\n",
      "grapes => 30 => 8 kg\n",
      "mango => 200 => 10kg\n"
     ]
    }
   ],
   "source": [
    "for f,p,q in zip(fruits,prices,qty):\n",
    "    print(f,\"=>\",p ,\"=>\",q)"
   ]
  },
  {
   "cell_type": "code",
   "execution_count": null,
   "metadata": {},
   "outputs": [],
   "source": []
  }
 ],
 "metadata": {
  "kernelspec": {
   "display_name": "Python 3.9.12 ('base')",
   "language": "python",
   "name": "python3"
  },
  "language_info": {
   "codemirror_mode": {
    "name": "ipython",
    "version": 3
   },
   "file_extension": ".py",
   "mimetype": "text/x-python",
   "name": "python",
   "nbconvert_exporter": "python",
   "pygments_lexer": "ipython3",
   "version": "3.9.12"
  },
  "orig_nbformat": 4,
  "vscode": {
   "interpreter": {
    "hash": "8836dc3cb5d022b839c66561b07c94e2b96c073f18eae4c463d3a3bcf20aef43"
   }
  }
 },
 "nbformat": 4,
 "nbformat_minor": 2
}
